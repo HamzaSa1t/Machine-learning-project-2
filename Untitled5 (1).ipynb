{
  "nbformat": 4,
  "nbformat_minor": 0,
  "metadata": {
    "colab": {
      "provenance": [],
      "toc_visible": true
    },
    "kernelspec": {
      "name": "python3",
      "display_name": "Python 3"
    },
    "language_info": {
      "name": "python"
    }
  },
  "cells": [
    {
      "cell_type": "code",
      "source": [],
      "metadata": {
        "id": "ROK3hMJUeK0k"
      },
      "execution_count": null,
      "outputs": []
    },
    {
      "cell_type": "code",
      "execution_count": 23,
      "metadata": {
        "colab": {
          "base_uri": "https://localhost:8080/"
        },
        "id": "ERBYmyvNYgcd",
        "outputId": "5ec9c4ac-53a0-4128-fc08-01d41562c4e3"
      },
      "outputs": [
        {
          "output_type": "stream",
          "name": "stdout",
          "text": [
            "Drive already mounted at /content/drive; to attempt to forcibly remount, call drive.mount(\"/content/drive\", force_remount=True).\n",
            "first few rows:\n",
            "   Temperature   Humidity  Wind_Speed  Cloud_Cover     Pressure  Rain\n",
            "0    23.720338  89.592641    7.335604    50.501694  1032.378759     1\n",
            "1    27.879734  46.489704    5.952484     4.990053   992.614189     0\n",
            "2    25.069084  83.072843    1.371992    14.855784  1007.231620     0\n",
            "3    23.622080  74.367758    7.050551    67.255282   982.632013     1\n",
            "4    20.591370  96.858822    4.643921    47.676444   980.825142     0\n",
            "Separating features and targets:\n",
            "features:\n",
            "      Temperature   Humidity  Wind_Speed  Cloud_Cover     Pressure\n",
            "0       23.720338  89.592641    7.335604    50.501694  1032.378759\n",
            "1       27.879734  46.489704    5.952484     4.990053   992.614189\n",
            "2       25.069084  83.072843    1.371992    14.855784  1007.231620\n",
            "3       23.622080  74.367758    7.050551    67.255282   982.632013\n",
            "4       20.591370  96.858822    4.643921    47.676444   980.825142\n",
            "...           ...        ...         ...          ...          ...\n",
            "2495    21.791602  45.270902   11.807192    55.044682  1017.686181\n",
            "2496    27.558479  46.481744   10.884915    39.715133  1008.590961\n",
            "2497    28.108274  43.817178    2.897128    75.842952   999.119187\n",
            "2498    14.789275  57.908105    2.374717     2.378743  1046.501875\n",
            "2499    26.554356  97.101517   18.563084    81.357508  1001.729176\n",
            "\n",
            "[2500 rows x 5 columns]\n",
            "target:\n",
            "      Rain\n",
            "0        1\n",
            "1        0\n",
            "2        0\n",
            "3        1\n",
            "4        0\n",
            "...    ...\n",
            "2495     0\n",
            "2496     0\n",
            "2497     0\n",
            "2498     0\n",
            "2499     0\n",
            "\n",
            "[2500 rows x 1 columns]\n",
            "\n",
            "\n",
            "Accuracy: 0.932\n",
            "Precision: 0.7254901960784313\n",
            "Recall: 0.6491228070175439\n",
            "\n",
            "classification report\n",
            "              precision    recall  f1-score   support\n",
            "\n",
            "           0       0.96      0.97      0.96       443\n",
            "           1       0.73      0.65      0.69        57\n",
            "\n",
            "    accuracy                           0.93       500\n",
            "   macro avg       0.84      0.81      0.82       500\n",
            "weighted avg       0.93      0.93      0.93       500\n",
            "\n",
            "\n",
            "Confusion Matrix:\n",
            "[[429  14]\n",
            " [ 20  37]]\n"
          ]
        },
        {
          "output_type": "stream",
          "name": "stderr",
          "text": [
            "/usr/local/lib/python3.11/dist-packages/sklearn/utils/validation.py:1408: DataConversionWarning: A column-vector y was passed when a 1d array was expected. Please change the shape of y to (n_samples, ), for example using ravel().\n",
            "  y = column_or_1d(y, warn=True)\n"
          ]
        }
      ],
      "source": [
        "from google.colab import drive\n",
        "drive.mount('/content/drive')\n",
        "import pandas as pd\n",
        "df = pd.read_csv('weather_forecast_data.csv')\n",
        "\n",
        "#first 5 rwos\n",
        "print(\"first few rows:\")\n",
        "print(df.head(5))\n",
        "\n",
        "#seprating data\n",
        "print(\"Separating features and targets:\")\n",
        "X = df.drop('Rain', axis=1)\n",
        "y = pd.DataFrame(y, columns=['Rain'])\n",
        "print(\"features:\")\n",
        "print(X)\n",
        "print(\"target:\")\n",
        "print(y)\n",
        "\n",
        "# 80% training and 20% testing\n",
        "from sklearn.model_selection import train_test_split\n",
        "X_train, X_test, y_train, y_test = train_test_split(X, y, test_size=0.2, random_state=42)\n",
        "\n",
        "from sklearn.linear_model import LogisticRegression\n",
        "model = LogisticRegression()\n",
        "model.fit(X_train, y_train)\n",
        "print(\"\")\n",
        "\n",
        "# traingin by LogisticRegression\n",
        "from sklearn.metrics import accuracy_score, precision_score, recall_score, classification_report, confusion_matrix\n",
        "y_pred = model.predict(X_test)\n",
        "accuracy = accuracy_score(y_test, y_pred)\n",
        "precision = precision_score(y_test, y_pred)\n",
        "recall = recall_score(y_test, y_pred)\n",
        "\n",
        "#evaluation\n",
        "print()\n",
        "print(\"Accuracy:\", accuracy)\n",
        "print(\"Precision:\", precision)\n",
        "print(\"Recall:\", recall)\n",
        "print()\n",
        "print(\"classification report\")\n",
        "print(classification_report(y_test, y_pred))\n",
        "print(\"\")\n",
        "print(\"Confusion Matrix:\")\n",
        "print(confusion_matrix(y_test, y_pred))\n",
        "\n",
        "\n",
        "\n",
        "\n",
        "\n",
        "\n",
        "\n",
        "\n",
        "\n",
        "\n",
        "\n",
        "\n",
        "\n"
      ]
    },
    {
      "cell_type": "markdown",
      "source": [
        "# New Section"
      ],
      "metadata": {
        "id": "ilwMCDkuZs-1"
      }
    },
    {
      "cell_type": "markdown",
      "source": [
        "# New Section"
      ],
      "metadata": {
        "id": "OtiYNUAid7KK"
      }
    }
  ]
}